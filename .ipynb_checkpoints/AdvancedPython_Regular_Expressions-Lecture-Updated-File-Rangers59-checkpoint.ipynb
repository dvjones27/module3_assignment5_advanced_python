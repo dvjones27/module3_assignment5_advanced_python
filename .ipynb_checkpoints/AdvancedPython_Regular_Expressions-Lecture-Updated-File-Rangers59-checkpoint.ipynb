{
 "cells": [
  {
   "cell_type": "markdown",
   "metadata": {},
   "source": [
    "# Regular Expressions"
   ]
  },
  {
   "cell_type": "markdown",
   "metadata": {},
   "source": [
    "# Tasks today:\n",
    "1) <b>Importing</b> <br>\n",
    "2) <b>Using Regular Expressions</b> <br>\n",
    " &nbsp;&nbsp;&nbsp;&nbsp; a) re.compile() <br>\n",
    " &nbsp;&nbsp;&nbsp;&nbsp; b) re.match() <br>\n",
    " &nbsp;&nbsp;&nbsp;&nbsp; c) re.findall() <br>\n",
    " &nbsp;&nbsp;&nbsp;&nbsp; d) re.search() <br>\n",
    "3) <b>Sets</b> <br>\n",
    " &nbsp;&nbsp;&nbsp;&nbsp; a) Integer Ranges <br>\n",
    " &nbsp;&nbsp;&nbsp;&nbsp; b) Character Ranges <br>\n",
    "4) <b>Counting Occurences</b> <br>\n",
    " &nbsp;&nbsp;&nbsp;&nbsp; a) {x} <br>\n",
    " &nbsp;&nbsp;&nbsp;&nbsp; b) {, x} <br>\n",
    " &nbsp;&nbsp;&nbsp;&nbsp; c) {?} <br>\n",
    " &nbsp;&nbsp;&nbsp;&nbsp; d) {*} <br>\n",
    " &nbsp;&nbsp;&nbsp;&nbsp; e) {+} <br>\n",
    "5) <b>In-Class Exercise #1</b> <br>\n",
    "6) <b>Escaping Characters</b> <br>\n",
    "7) <b>Grouping</b> <br>\n",
    "8) <b>In-Class Exercise #2</b> <br>\n",
    "9) <b>Opening a File</b> <br>\n",
    " &nbsp;&nbsp;&nbsp;&nbsp; a) open() <br>\n",
    " &nbsp;&nbsp;&nbsp;&nbsp; b) with open() <br>\n",
    " &nbsp;&nbsp;&nbsp;&nbsp; c) re.match() <br>\n",
    " &nbsp;&nbsp;&nbsp;&nbsp; d) re.search() <br>\n",
    " &nbsp;&nbsp;&nbsp;&nbsp; e) Store the String in a Variable <br>\n",
    "10) <b>Regex Project</b> <br>"
   ]
  },
  {
   "cell_type": "markdown",
   "metadata": {},
   "source": [
    "### Importing <br>\n",
    "<p>Regular Expressions are universal throughout most programming languages... They are generally imported through the module 're'.</p>"
   ]
  },
  {
   "cell_type": "code",
   "execution_count": 3,
   "metadata": {},
   "outputs": [],
   "source": [
    "# import re\n",
    "import re"
   ]
  },
  {
   "cell_type": "markdown",
   "metadata": {},
   "source": [
    "### Using Regular Expressions <br>\n",
    "<p>Regular expressions give us the ability to search for patterns within text, strings, files, etc. They serve several uses, such as; security measures, searching, filtering, pattern recognition, and more...</p>"
   ]
  },
  {
   "cell_type": "markdown",
   "metadata": {},
   "source": [
    "##### re.compile()"
   ]
  },
  {
   "cell_type": "code",
   "execution_count": 5,
   "metadata": {},
   "outputs": [
    {
     "name": "stdout",
     "output_type": "stream",
     "text": [
      "re.compile('abcd')\n"
     ]
    }
   ],
   "source": [
    "# using compile, pre determines the string to be used in regular expression methods\n",
    "\n",
    "pattern = re.compile(\"abcd\")\n",
    "print(pattern)"
   ]
  },
  {
   "cell_type": "markdown",
   "metadata": {},
   "source": [
    "##### re.match()"
   ]
  },
  {
   "cell_type": "code",
   "execution_count": 14,
   "metadata": {},
   "outputs": [
    {
     "name": "stdout",
     "output_type": "stream",
     "text": [
      "<re.Match object; span=(0, 4), match='abcd'>\n",
      "[0, 4]\n",
      "{0, 4}\n",
      "(0, 4)\n",
      "<class 'list'>\n"
     ]
    }
   ],
   "source": [
    "\n",
    "match = pattern.match(\"abcd123\")\n",
    "print(match)\n",
    "\n",
    "\n",
    "# Accessing the span of the match\n",
    "\n",
    "\n",
    "print(list(match.span()))\n",
    "\n",
    "print(set(match.span()))\n",
    "print(str(match.span()))\n",
    "print(type(list(match.span())))"
   ]
  },
  {
   "cell_type": "markdown",
   "metadata": {},
   "source": [
    "##### re.findall()"
   ]
  },
  {
   "cell_type": "code",
   "execution_count": 18,
   "metadata": {},
   "outputs": [
    {
     "name": "stdout",
     "output_type": "stream",
     "text": [
      "['abcd', 'abcd']\n",
      "Help on function findall in module re:\n",
      "\n",
      "findall(pattern, string, flags=0)\n",
      "    Return a list of all non-overlapping matches in the string.\n",
      "    \n",
      "    If one or more capturing groups are present in the pattern, return\n",
      "    a list of groups; this will be a list of tuples if the pattern\n",
      "    has more than one group.\n",
      "    \n",
      "    Empty matches are included in the result.\n",
      "\n"
     ]
    }
   ],
   "source": [
    "finders = pattern.findall(\"123abc abcd123 abcd 123 ababcabad 132413213\")\n",
    "print(finders)\n",
    "help(re.findall)"
   ]
  },
  {
   "cell_type": "markdown",
   "metadata": {},
   "source": [
    "##### re.search()"
   ]
  },
  {
   "cell_type": "code",
   "execution_count": 23,
   "metadata": {},
   "outputs": [
    {
     "name": "stdout",
     "output_type": "stream",
     "text": [
      "<re.Match object; span=(18, 22), match='abcd'>\n",
      "(18, 22)\n",
      "abcd\n"
     ]
    }
   ],
   "source": [
    "random_string = \"12345 asdfd andio abcd quireo1 1i34o abcd\"\n",
    "search = pattern.search(random_string)\n",
    "print(search)\n",
    "\n",
    "span = search.span()\n",
    "print(span)\n",
    "\n",
    "print(random_string[span[0]:span[1]])"
   ]
  },
  {
   "cell_type": "markdown",
   "metadata": {},
   "source": [
    "### Sets <br>\n",
    "<p>The following cells will allow you to use regular expressions to search for certain values within a range such as numbers 1 through 4.</p>"
   ]
  },
  {
   "cell_type": "markdown",
   "metadata": {},
   "source": [
    "##### [a-z] or [A-Z] - any lowercase/uppercase letters from a to z<br/>[^2] - anything that's not 2"
   ]
  },
  {
   "cell_type": "markdown",
   "metadata": {},
   "source": [
    "##### Integer Ranges"
   ]
  },
  {
   "cell_type": "code",
   "execution_count": 32,
   "metadata": {},
   "outputs": [
    {
     "name": "stdout",
     "output_type": "stream",
     "text": [
      "<re.Match object; span=(0, 5), match='67393'>\n",
      "67393\n"
     ]
    }
   ],
   "source": [
    "pattern_int = re.compile(\"[0-7][0-7][0-3][0-9][0-3]\")\n",
    "\n",
    "random_numbers = pattern_int.search(\"67393\")\n",
    "\n",
    "print(random_numbers)\n",
    "\n",
    "span = random_numbers.span()\n",
    "\n",
    "print(random_numbers[span[0]])"
   ]
  },
  {
   "cell_type": "markdown",
   "metadata": {},
   "source": [
    "##### Character Ranges"
   ]
  },
  {
   "cell_type": "code",
   "execution_count": 36,
   "metadata": {},
   "outputs": [
    {
     "name": "stdout",
     "output_type": "stream",
     "text": [
      "['He', 'Mr', 'An']\n"
     ]
    }
   ],
   "source": [
    "char_pattern = re.compile(\"[A-Z][a-z]\")\n",
    "\n",
    "found = char_pattern.findall(\"Hello there Mr. Anderson\")\n",
    "print(found)"
   ]
  },
  {
   "cell_type": "markdown",
   "metadata": {},
   "source": [
    "### Counting Occurences"
   ]
  },
  {
   "cell_type": "markdown",
   "metadata": {},
   "source": [
    "##### {x} - something that occurs {num_of_times}"
   ]
  },
  {
   "cell_type": "code",
   "execution_count": 41,
   "metadata": {},
   "outputs": [
    {
     "name": "stdout",
     "output_type": "stream",
     "text": [
      "['Anderso']\n"
     ]
    }
   ],
   "source": [
    "char_pattern_count = re.compile(\"[A-Z][a-z]{6}[0-3]{2}\")\n",
    "\n",
    "find_count = char_pattern_count.findall(\"Hello Mr. Anderson\")\n",
    "print(find_count)"
   ]
  },
  {
   "cell_type": "markdown",
   "metadata": {},
   "source": [
    "##### {x, y} - something that occurs between x and y times"
   ]
  },
  {
   "cell_type": "code",
   "execution_count": 48,
   "metadata": {},
   "outputs": [
    {
     "name": "stdout",
     "output_type": "stream",
     "text": [
      "['m', 'mmmm', 'mmmmm', 'mmm', 'mm']\n"
     ]
    }
   ],
   "source": [
    "random_pattern = re.compile(\"m{1,5}\")\n",
    "random_statement = random_pattern.findall(\"Expression trying to find m, mmmm, mmmmmmmm, mm\")\n",
    "print(random_statement)"
   ]
  },
  {
   "cell_type": "markdown",
   "metadata": {},
   "source": [
    "##### ? - something that occurs 0 or 1 time"
   ]
  },
  {
   "cell_type": "code",
   "execution_count": 52,
   "metadata": {},
   "outputs": [
    {
     "name": "stdout",
     "output_type": "stream",
     "text": [
      "['Mrs', 'Mrss', 'Mrss']\n"
     ]
    }
   ],
   "source": [
    "pattern_m = re.compile(\"Mrss?\")\n",
    "\n",
    "find_patt = pattern_m.findall(\"Hello Mr, Mrs, Mrss, and Mrssss Andersons\")\n",
    "print(find_patt)"
   ]
  },
  {
   "cell_type": "markdown",
   "metadata": {},
   "source": [
    "##### * - something that occurs at least 0 times"
   ]
  },
  {
   "cell_type": "code",
   "execution_count": 55,
   "metadata": {},
   "outputs": [
    {
     "name": "stdout",
     "output_type": "stream",
     "text": [
      "['Ms', 'MMMMs', 'Ms', 's', 's', 's', 's', 's', 's', 's', 's', 's', 's', 's', 's']\n"
     ]
    }
   ],
   "source": [
    "pattern_n = re.compile(\"M*s\")\n",
    "\n",
    "find_patt_n = pattern_n.findall(\"Hello Mr, Ms, MMM, MMMMs, Ms, Mndions, Mines, Mounds, Mrs, Mrss, and Mrssss Andersons\")\n",
    "\n",
    "print(find_patt_n)"
   ]
  },
  {
   "cell_type": "markdown",
   "metadata": {},
   "source": [
    "##### + - something that occurs at least once"
   ]
  },
  {
   "cell_type": "code",
   "execution_count": 4,
   "metadata": {},
   "outputs": [
    {
     "name": "stdout",
     "output_type": "stream",
     "text": [
      "['Ms', 'MMMMs', 'Ms']\n"
     ]
    }
   ],
   "source": [
    "pattern_again  = re.compile(\"M+s\")\n",
    "\n",
    "find_patt_o = pattern_again.findall(\"Hello Mr, Ms, MMM, MMMMs, Ms, Mndions, Mines, Mounds, Mrs, Mrss, and Mrssss Andersons\")\n",
    "\n",
    "print(find_patt_o)"
   ]
  },
  {
   "cell_type": "markdown",
   "metadata": {},
   "source": [
    "##### In-class exercise 1: \n",
    "\n",
    "Use a regular expression to find every number in the given string"
   ]
  },
  {
   "cell_type": "code",
   "execution_count": 21,
   "metadata": {},
   "outputs": [
    {
     "name": "stdout",
     "output_type": "stream",
     "text": [
      "['190343801438041', '1', '2']\n",
      "['190343801438041', '1', '2']\n"
     ]
    }
   ],
   "source": [
    "pattern_this = re.compile(r\"\\d+\")\n",
    "\n",
    "givenString = \"This string has 190343801438041 numbers, but it is only 1 string. I hope you solve this 2day. \"\n",
    "\n",
    "find_this = re.findall(r\"\\d+\", givenString)\n",
    "find_this2 = pattern_this.findall(givenString)\n",
    "\n",
    "print(find_this)\n",
    "print(find_this2)"
   ]
  },
  {
   "cell_type": "markdown",
   "metadata": {},
   "source": [
    "### Escaping Characters"
   ]
  },
  {
   "cell_type": "markdown",
   "metadata": {},
   "source": [
    "##### \\w - look for any Unicode character<br/>\\W - look for anything that isnt a Unicode character\n",
    "\n",
    "[History on Unicode](http://unicode.org/standard/WhatIsUnicode.html)\n",
    "\n",
    "[More on Unicode Characters](https://en.wikipedia.org/wiki/List_of_Unicode_characters)"
   ]
  },
  {
   "cell_type": "code",
   "execution_count": 58,
   "metadata": {},
   "outputs": [
    {
     "name": "stdout",
     "output_type": "stream",
     "text": [
      "['This', 'is', 'a', 'sentence', 'With', 'an', 'exclamation', 'and', 'dash', 'mark', 'at', 'the', 'end']\n",
      "[' ', ' ', ' ', '. ', ', ', ' ', ' ', ' ', ' - ', ' ', ' ', ' ', '!']\n",
      "['This', 'is', 'a', 'sentence', 'With', 'an', 'exclamation', 'and', 'dash', 'mark', 'at', 'the', 'end']\n"
     ]
    }
   ],
   "source": [
    "pattern_1 = re.compile(\"[\\w]+\")\n",
    "pattern_2 = re.compile(\"[\\W]+\")\n",
    "\n",
    "found_1 = pattern_1.findall(\"This is a sentence. With, an exclamation and dash - mark at the end!\")\n",
    "found_2 = pattern_2.findall(\"This is a sentence. With, an exclamation and dash - mark at the end!\")\n",
    "found_1_a = pattern_1.findall(\"This is a sentence. With, an exclamation and dash - mark at the end!\")\n",
    "\n",
    "\n",
    "print(found_1)\n",
    "print(found_2)\n",
    "print(found_1_a)"
   ]
  },
  {
   "cell_type": "markdown",
   "metadata": {},
   "source": [
    "##### \\d - look for any digit 0-9<br/>\\D - look for anything that isnt a digit"
   ]
  },
  {
   "cell_type": "code",
   "execution_count": 40,
   "metadata": {},
   "outputs": [
    {
     "name": "stdout",
     "output_type": "stream",
     "text": [
      "['7th', '27th', '3rd', '1st', '31st']\n",
      "['Today is the ', 'th. In ', ' days, it will be the ', 'th. ', 'rd. ', 'st. ', 'st.']\n"
     ]
    }
   ],
   "source": [
    "pattern_nums1 = re.compile(\"\\d{1,2}[a-z]{2}\")\n",
    "pattern_nums2 = re.compile(\"[\\D]+\")\n",
    "\n",
    "find_nums1 = pattern_nums1.findall(\"Today is the 7th. In 20 days, it will be the 27th. 3rd. 1st. 31st.\")\n",
    "find_nums2 = pattern_nums2.findall(\"Today is the 7th. In 20 days, it will be the 27th. 3rd. 1st. 31st.\")\n",
    "\n",
    "\n",
    "print(find_nums1)\n",
    "print(find_nums2)"
   ]
  },
  {
   "cell_type": "markdown",
   "metadata": {},
   "source": [
    "##### \\s - look for any white space<br/>\\S - look for anything that isnt whitespace"
   ]
  },
  {
   "cell_type": "code",
   "execution_count": 42,
   "metadata": {},
   "outputs": [
    {
     "name": "stdout",
     "output_type": "stream",
     "text": [
      "[' ', ' ', ' ', ' ', ' ']\n",
      "['Are', 'you', 'afraid', 'of', 'the', 'dark']\n"
     ]
    }
   ],
   "source": [
    "pattern_space1 = re.compile(\"\\s\")\n",
    "pattern_no_space2 = re.compile(\"\\S[a-z]+\")\n",
    "\n",
    "find_space = pattern_space1.findall(\"Are you afraid of the dark?\")\n",
    "print(find_space)\n",
    "\n",
    "find_space2 = pattern_no_space2.findall(\"Are you afraid of the dark?\")\n",
    "print(find_space2)"
   ]
  },
  {
   "cell_type": "markdown",
   "metadata": {},
   "source": [
    "##### \\b - look for boundaries or edges of a word<br/>\\B - look for anything that isnt a boundary"
   ]
  },
  {
   "cell_type": "code",
   "execution_count": 46,
   "metadata": {},
   "outputs": [
    {
     "name": "stdout",
     "output_type": "stream",
     "text": [
      "['TheCodingTemple']\n",
      "[]\n"
     ]
    }
   ],
   "source": [
    "pattern_bound = re.compile(r\"\\bTheCodingTemple\\b\")\n",
    "pattern_bound_none = re.compile(r\"\\BTheCodingTemple\\B\")\n",
    "\n",
    "find_bound = pattern_bound.findall(\"TheCodingTemple\")\n",
    "find_bound_none = pattern_bound_none.findall(\"TheCodingTemple\")\n",
    "\n",
    "print(find_bound)\n",
    "print(find_bound_none)"
   ]
  },
  {
   "cell_type": "markdown",
   "metadata": {},
   "source": [
    "### Grouping"
   ]
  },
  {
   "cell_type": "code",
   "execution_count": 688,
   "metadata": {},
   "outputs": [
    {
     "name": "stdout",
     "output_type": "stream",
     "text": [
      "[('Alpha', 'Zulu', '@reionsio'), ('Bravo', 'Yankee', '@1io3nfio3'), ('Charlie', 'XRay', '@439fnkjelng')]\n",
      "('Alpha', 'Zulu', '@reionsio')\n",
      "('Bravo', 'Yankee', '@1io3nfio3')\n",
      "('Charlie', 'XRay', '@439fnkjelng')\n",
      "Not a name\n",
      "Not a name\n",
      "Not a name\n",
      "Not a name\n",
      "Not a name\n",
      "Not a name\n"
     ]
    }
   ],
   "source": [
    "trying_again = \"Alpha Zulu @reionsio, Bravo Yankee @1io3nfio3, Charlie XRay @439fnkjelng, Echo Whiskey, Foxtrot Victor, Golf Unicorn, Hotel Tango, Indigo Sierra, juliet romeo\" \n",
    "\n",
    "pattern_name = re.compile(\"([A-Z][a-zA-Za-z]+) ([A-Z][A-Za-z]+) ([@][\\w]*)\")\n",
    "\n",
    "\n",
    "found_names = pattern_name.findall(trying_again)\n",
    "print(found_names)\n",
    "\n",
    "for name in trying_again.split(\",\"):\n",
    "#     re.search(pattern_name)\n",
    "    match = pattern_name.search(name)\n",
    "    \n",
    "    if match:\n",
    "        print(match.groups(3))\n",
    "    else:\n",
    "        print(\"Not a name\")"
   ]
  },
  {
   "cell_type": "markdown",
   "metadata": {},
   "source": [
    "##### In-class Exercise 2:\n",
    "\n",
    "\\\n",
    "Write a function using regular expressions to find the domain name in the given email addresses (and return None for the invalid email addresses)<br><b>HINT: Use '|' for either or</b>"
   ]
  },
  {
   "cell_type": "code",
   "execution_count": 191,
   "metadata": {},
   "outputs": [
    {
     "name": "stdout",
     "output_type": "stream",
     "text": [
      "None\n",
      "pocohontas1776@gmail.com\n",
      "None\n",
      "yourfavoriteband@g6.org\n",
      "None\n"
     ]
    }
   ],
   "source": [
    "my_emails = [\"jordanw@codingtemple.orgcom\", \"pocohontas1776@gmail.com\", \"helloworld@aol..com\",\n",
    "             \"yourfavoriteband@g6.org\", \"@codingtemple.com\"]\n",
    "\n",
    "# You can also use the $ at the end of your compile expression -- this stops the search\n",
    "\n",
    "#.com OR .org => com|org\n",
    "\n",
    "#Expected output:\n",
    "#None\n",
    "#pocohontas1776@gmail.com\n",
    "#None\n",
    "#yourfavoriteband@g6.org\n",
    "#None\n",
    "email_look = re.compile(r\"[\\W]\\@com|org\")\n",
    "\n",
    "# find_emails = filter(re.findall(email_look, my_emails))\n",
    "\n",
    "for emails in my_emails:\n",
    "    if re.search(r\"[\\w]\\@[[org$]|[com$]]\", emails):\n",
    "        print(emails)\n",
    "    else:\n",
    "        print(\"None\")\n",
    "# print(find_emails)\n"
   ]
  },
  {
   "cell_type": "code",
   "execution_count": null,
   "metadata": {},
   "outputs": [],
   "source": []
  },
  {
   "cell_type": "code",
   "execution_count": null,
   "metadata": {},
   "outputs": [],
   "source": []
  },
  {
   "cell_type": "markdown",
   "metadata": {},
   "source": [
    "### Opening a File <br>\n",
    "<p>Python gives us a couple ways to import files, below are the two used most often.</p>"
   ]
  },
  {
   "cell_type": "markdown",
   "metadata": {},
   "source": [
    "##### open()"
   ]
  },
  {
   "cell_type": "code",
   "execution_count": 158,
   "metadata": {},
   "outputs": [
    {
     "name": "stdout",
     "output_type": "stream",
     "text": [
      "Hawkins, Derek\tderek@codingtemple.com\t(555) 555-5555\tTeacher, Coding Temple\t@derekhawkins\n",
      "Zhai, Mo\tmozhai@codingtemple.com\t(555) 555-5554\tTeacher, Coding Temple\n",
      "Johnson, Joe\tjoejohnson@codingtemple.com\t\tJohson, Joe\n",
      "Osterberg, Sven-Erik\tgovernor@norrbotten.co.se\t\tGovernor, Norrbotten\t@sverik\n",
      ", Tim\ttim@killerrabbit.com\t\tEnchanter, Killer Rabbit Cave\n",
      "Butz, Ryan\tryanb@codingtemple.com\t(555) 555-5543\tCEO, Coding Temple\t@ryanbutz\n",
      "Doctor, The\tdoctor+companion@tardis.co.uk\t\tTime Lord, Gallifrey\n",
      "Exampleson, Example\tme@example.com\t555-555-5552\tExample, Example Co.\t@example\n",
      "Pael, Ripal\tripalp@codingtemple.com\t(555) 555-5553\tTeacher, Coding Temple\t@ripalp\n",
      "Vader, Darth\tdarth-vader@empire.gov\t(555) 555-4444\tSith Lord, Galactic Empire\t@darthvader\n",
      "Fernandez de la Vega Sanz, Maria Teresa\tmtfvs@spain.gov\t\tFirst Deputy Prime Minister, Spanish Gov\n"
     ]
    }
   ],
   "source": [
    "f = open(\"names.txt\")\n",
    "\n",
    "data = f.read()\n",
    "\n",
    "print(data)\n",
    "\n",
    "f.close()"
   ]
  },
  {
   "cell_type": "markdown",
   "metadata": {},
   "source": [
    "##### with open()"
   ]
  },
  {
   "cell_type": "code",
   "execution_count": 691,
   "metadata": {},
   "outputs": [],
   "source": [
    "with open(\"names.txt\") as f2:\n",
    "    data2 = f2.read()\n",
    "#     for lines in data2:\n",
    "    if re.search(r\"[A-Z]\", data2):\n",
    "#         if re.findall(r\"\\t@\", data2):\n",
    "        print(data2)\n",
    "    \n",
    "# print(data2)\n",
    "f2.close()"
   ]
  },
  {
   "cell_type": "markdown",
   "metadata": {},
   "source": [
    "##### re.match()"
   ]
  },
  {
   "cell_type": "code",
   "execution_count": 161,
   "metadata": {},
   "outputs": [
    {
     "name": "stdout",
     "output_type": "stream",
     "text": [
      "<re.Match object; span=(0, 14), match='Hawkins, Derek'>\n"
     ]
    }
   ],
   "source": [
    "print(re.match(r\"Hawkins, Derek\", data))"
   ]
  },
  {
   "cell_type": "markdown",
   "metadata": {},
   "source": [
    "##### re.search()"
   ]
  },
  {
   "cell_type": "code",
   "execution_count": 163,
   "metadata": {},
   "outputs": [
    {
     "name": "stdout",
     "output_type": "stream",
     "text": [
      "<re.Match object; span=(582, 605), match='ripalp@codingtemple.com'>\n"
     ]
    }
   ],
   "source": [
    "print(re.search(r\"ripalp@codingtemple.com\", data))"
   ]
  },
  {
   "cell_type": "markdown",
   "metadata": {},
   "source": [
    "##### Store the String to a Variable"
   ]
  },
  {
   "cell_type": "code",
   "execution_count": 549,
   "metadata": {},
   "outputs": [
    {
     "name": "stdout",
     "output_type": "stream",
     "text": [
      "What would you like to search for? Sith Lord\n",
      "Here is the found data for: ['Sith Lord'].\n",
      " {<re.Match object; span=(19, 37), match='k@codingtemple.com'>}\n"
     ]
    }
   ],
   "source": [
    "answer = input(\"What would you like to search for? \")\n",
    "\n",
    "found_answer = re.findall(answer, data)\n",
    " \n",
    "    \n",
    "# print(found_answer)\n",
    "\n",
    "if found_answer :\n",
    "    print(f\"Here is the found data for: {found_answer}.\\n\", {re.search(r\"[a-z]@codingtemple.com\", data)})\n",
    "else:\n",
    "    print(f\"There is no information with \\\"{answer}\\\" in the system.\")"
   ]
  },
  {
   "cell_type": "markdown",
   "metadata": {},
   "source": [
    "### In-Class Exercise #3 <br>\n",
    "<p>Print each persons name and twitter handle, using groups, should look like:</p>\n",
    "<p>==============<br>\n",
    "   Full Name / Twitter<br>\n",
    "   ==============</p>\n",
    "Derek Hawkins / @derekhawkins\n",
    "\n",
    " Erik Sven-Osterberg / @sverik\n",
    "\n",
    " Ryan Butz / @ryanbutz\n",
    "\n",
    " Example Exampleson / @example\n",
    "\n",
    " Ripal Pael / @ripalp\n",
    "\n",
    " Darth Vader / @darthvader"
   ]
  },
  {
   "cell_type": "code",
   "execution_count": 996,
   "metadata": {},
   "outputs": [
    {
     "name": "stdout",
     "output_type": "stream",
     "text": [
      "===================\n",
      " Full Name/Twitter\n",
      "===================\n",
      "Derek Hawkins /\t@derekhawkins\n",
      "Sven-Erik Osterberg /\t@sverik\n",
      "Ryan Butz /\t@ryanbutz\n",
      "Example Exampleson /\t@example\n",
      "Ripal Pael /\t@ripalp\n",
      "Darth Vader /\t@darthvader\n"
     ]
    }
   ],
   "source": [
    "# #Hint use .group()\n",
    "\n",
    "# open_names = open(r\"names.txt\")\n",
    "\n",
    "# pattern_name = re.compile(r\"([A-Z][a-zA-Za-z]+) , ([A-Z][A-Za-z]+) ([\\t]*) ([@][\\w]*)\")\n",
    "# pattern_name = re.compile(r\"([A-Z][a-zA-Za-z]+) , ([A-Z][A-Za-z]+) \")\n",
    "# pattern_name = re.compile(r\"(?P<lastname>[-\\w]+),\\s(?P<firstname>[-\\w\\ ]+\\s[\\w]+)\")\n",
    "# pattern_name = re.compile(r\"([A-Z][a-zA-Za-z]+)\")\n",
    "# pattern_name_2 = re.compile(r\"([\\w])\")\n",
    "# pattern_name = re.compile(r\"\\t@\") #Works Properly\n",
    "\n",
    "\n",
    "with open(\"names.txt\") as f_2:\n",
    "    data_2 = f_2.readlines()\n",
    "#     print(pattern_name)\n",
    "\n",
    "    print(\"===================\\n Full Name/Twitter\\n===================\")\n",
    "    for line in data_2:\n",
    "        if re.search((r\"(\\t[@][\\w]*)\"), line):\n",
    "            m1 = re.search((r\"(\\b[A-Z][a-zA-Za-z]+\\b)([\\W]) (\\b[A-Z][A-Za-z][-\\w]+\\b)\"), line)\n",
    "            m2 = re.search((r\"(\\t[@][\\w]*)\"), line)\n",
    "            print(f\"{m1.group(3)} {m1.group(1)} /{m2.group()}\")\n",
    "\n",
    "open_names.close()            \n",
    "\n"
   ]
  },
  {
   "cell_type": "code",
   "execution_count": null,
   "metadata": {},
   "outputs": [],
   "source": []
  },
  {
   "cell_type": "markdown",
   "metadata": {},
   "source": [
    "### Regex project\n",
    "\n",
    "Use python to read the file regex_test.txt and print the last name on each line using regular expressions and groups (return None for names with no first and last name, or names that aren't properly capitalized)\n",
    "##### Hint: use with open() and readlines()"
   ]
  },
  {
   "cell_type": "code",
   "execution_count": 767,
   "metadata": {},
   "outputs": [
    {
     "name": "stdout",
     "output_type": "stream",
     "text": [
      "Abraham Lincoln\n",
      "\n",
      "Andrew P Garfield\n",
      "\n",
      "Connor Milliken\n",
      "\n",
      "Jordan Alexander Williams\n",
      "\n",
      "None\n",
      "\n",
      "None\n",
      "\n"
     ]
    }
   ],
   "source": [
    "\"\"\"\n",
    "Expected Output\n",
    "Abraham Lincoln\n",
    "Andrew P Garfield\n",
    "Connor Milliken\n",
    "Jordan Alexander Williams\n",
    "None\n",
    "None\n",
    "\"\"\"\n",
    "\n",
    "open_reTest = open(r\"regex_test.txt\", \"r\")\n",
    "\n",
    "\n",
    "pattern_reTest = re.compile(r\"(\\w) ?([A-Z]?)? ([A-Z][a-zA-Za-z])\")\n",
    "\n",
    "for names in open_reTest:\n",
    "    if pattern_reTest.search(names):\n",
    "        print(names)\n",
    "    else:\n",
    "        print(\"None\\n\")\n",
    "\n",
    "\n",
    "        \n",
    "open_reTest.close()\n",
    "\n",
    "\n"
   ]
  },
  {
   "cell_type": "code",
   "execution_count": null,
   "metadata": {},
   "outputs": [],
   "source": []
  }
 ],
 "metadata": {
  "kernelspec": {
   "display_name": "Python 3 (ipykernel)",
   "language": "python",
   "name": "python3"
  },
  "language_info": {
   "codemirror_mode": {
    "name": "ipython",
    "version": 3
   },
   "file_extension": ".py",
   "mimetype": "text/x-python",
   "name": "python",
   "nbconvert_exporter": "python",
   "pygments_lexer": "ipython3",
   "version": "3.9.12"
  }
 },
 "nbformat": 4,
 "nbformat_minor": 2
}
